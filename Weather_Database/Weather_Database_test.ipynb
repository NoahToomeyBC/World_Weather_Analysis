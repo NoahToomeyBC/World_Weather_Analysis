{
 "cells": [
  {
   "cell_type": "code",
   "execution_count": 1,
   "id": "c7a8be67",
   "metadata": {},
   "outputs": [],
   "source": [
    "# Import the dependencies.\n",
    "import pandas as pd\n",
    "import matplotlib.pyplot as plt\n",
    "import numpy as np\n",
    "from citipy import citipy\n",
    "import requests\n",
    "from config import weather_api_key\n",
    "from datetime import datetime\n",
    "import random"
   ]
  },
  {
   "cell_type": "code",
   "execution_count": 2,
   "id": "f638b0fb",
   "metadata": {},
   "outputs": [],
   "source": [
    "# Generate lists of longitudes and latitudes\n",
    "x = 1\n",
    "latitudes = []\n",
    "while x <= 2000:\n",
    "    random_lat = random.randint(-90, 89) + random.random()\n",
    "    latitudes.append(random_lat)\n",
    "    x += 1\n",
    "y = 1\n",
    "longitudes = []\n",
    "while y <= 2000:\n",
    "    random_lon = random.randint(-180, 179) + random.random()\n",
    "    longitudes.append(random_lon)\n",
    "    y+=1"
   ]
  },
  {
   "cell_type": "code",
   "execution_count": 3,
   "id": "4487dfe8",
   "metadata": {},
   "outputs": [],
   "source": [
    "# Create zip of lat and long pairs then convert to list\n",
    "lats_lngs = zip(latitudes, longitudes)\n",
    "coordinates = list(lats_lngs)"
   ]
  },
  {
   "cell_type": "code",
   "execution_count": 4,
   "id": "7dd1a069",
   "metadata": {},
   "outputs": [
    {
     "data": {
      "text/plain": [
       "731"
      ]
     },
     "execution_count": 4,
     "metadata": {},
     "output_type": "execute_result"
    }
   ],
   "source": [
    "# Create a list for holding the cities.\n",
    "cities = []\n",
    "# Identify the nearest city for each latitude and longitude combination.\n",
    "for coordinate in coordinates:\n",
    "    city = citipy.nearest_city(coordinate[0], coordinate[1]).city_name\n",
    "\n",
    "    # If the city is unique, then we will add it to the cities list.\n",
    "    if city not in cities:\n",
    "        cities.append(city)\n",
    "# Print the city count to confirm sufficient count.\n",
    "len(cities)"
   ]
  },
  {
   "cell_type": "code",
   "execution_count": 5,
   "id": "1690a846",
   "metadata": {
    "scrolled": false
   },
   "outputs": [
    {
     "name": "stdout",
     "output_type": "stream",
     "text": [
      "http://api.openweathermap.org/data/2.5/weather?units=Imperial&APPID=cf3447e556d48170736fb1be196af2f5\n"
     ]
    }
   ],
   "source": [
    "# Starting URL for Weather Map API Call.\n",
    "url = \"http://api.openweathermap.org/data/2.5/weather?units=Imperial&APPID=\" + weather_api_key\n",
    "print(url)"
   ]
  },
  {
   "cell_type": "code",
   "execution_count": 6,
   "id": "02de358b",
   "metadata": {},
   "outputs": [
    {
     "data": {
      "text/plain": [
       "{'coord': {'lon': -3.296, 'lat': 58.965},\n",
       " 'weather': [{'id': 802,\n",
       "   'main': 'Clouds',\n",
       "   'description': 'scattered clouds',\n",
       "   'icon': '03d'}],\n",
       " 'base': 'stations',\n",
       " 'main': {'temp': 57.16,\n",
       "  'feels_like': 56.1,\n",
       "  'temp_min': 55.65,\n",
       "  'temp_max': 57.16,\n",
       "  'pressure': 1025,\n",
       "  'humidity': 75,\n",
       "  'sea_level': 1025,\n",
       "  'grnd_level': 1023},\n",
       " 'visibility': 10000,\n",
       " 'wind': {'speed': 11.18, 'deg': 313, 'gust': 14.25},\n",
       " 'clouds': {'all': 31},\n",
       " 'dt': 1626616366,\n",
       " 'sys': {'type': 1,\n",
       "  'id': 1437,\n",
       "  'country': 'GB',\n",
       "  'sunrise': 1626579101,\n",
       "  'sunset': 1626642405},\n",
       " 'timezone': 3600,\n",
       " 'id': 2636638,\n",
       " 'name': 'Stromness',\n",
       " 'cod': 200}"
      ]
     },
     "execution_count": 6,
     "metadata": {},
     "output_type": "execute_result"
    }
   ],
   "source": [
    "boston_url = url + \"&q=\" + \"stromness\"\n",
    "boston_weather = requests.get(boston_url).json()\n",
    "boston_weather"
   ]
  },
  {
   "cell_type": "code",
   "execution_count": null,
   "id": "71220e0f",
   "metadata": {},
   "outputs": [
    {
     "name": "stdout",
     "output_type": "stream",
     "text": [
      "Processing Record 1 of Set 1 | albany\n",
      "City Not Found\n",
      "Processing Record 2 of Set 1 | hithadhoo\n",
      "City Not Found\n",
      "Processing Record 3 of Set 1 | airai\n",
      "City Not Found\n",
      "Processing Record 4 of Set 1 | flin flon\n",
      "City Not Found\n",
      "Processing Record 5 of Set 1 | mataura\n",
      "City Not Found\n",
      "Processing Record 6 of Set 1 | ushuaia\n",
      "City Not Found\n",
      "Processing Record 7 of Set 1 | georgetown\n",
      "City Not Found\n",
      "Processing Record 8 of Set 1 | liwale\n",
      "City Not Found\n",
      "Processing Record 9 of Set 1 | castro\n",
      "City Not Found\n",
      "Processing Record 10 of Set 1 | ponta do sol\n",
      "City Not Found\n",
      "Processing Record 11 of Set 1 | punta arenas\n",
      "City Not Found\n",
      "Processing Record 12 of Set 1 | tilichiki\n",
      "City Not Found\n",
      "Processing Record 13 of Set 1 | atuona\n",
      "City Not Found\n",
      "Processing Record 14 of Set 1 | plettenberg bay\n",
      "City Not Found\n",
      "Processing Record 15 of Set 1 | hermanus\n",
      "City Not Found\n",
      "Processing Record 16 of Set 1 | mahebourg\n",
      "City Not Found\n",
      "Processing Record 17 of Set 1 | longyearbyen\n",
      "City Not Found\n",
      "Processing Record 18 of Set 1 | clyde river\n",
      "City Not Found\n",
      "Processing Record 19 of Set 1 | jamestown\n",
      "City Not Found\n",
      "Processing Record 20 of Set 1 | rikitea\n",
      "City Not Found\n",
      "Processing Record 21 of Set 1 | tiksi\n",
      "City Not Found\n",
      "Processing Record 22 of Set 1 | kapaa\n",
      "City Not Found\n",
      "Processing Record 23 of Set 1 | halalo\n",
      "City Not Found\n",
      "Processing Record 24 of Set 1 | lhokseumawe\n",
      "City Not Found\n",
      "Processing Record 25 of Set 1 | hasaki\n",
      "City Not Found\n",
      "Processing Record 26 of Set 1 | carnarvon\n",
      "City Not Found\n",
      "Processing Record 27 of Set 1 | mys shmidta\n",
      "City Not Found\n",
      "Processing Record 28 of Set 1 | jackson\n",
      "City Not Found\n",
      "Processing Record 29 of Set 1 | narsaq\n",
      "City Not Found\n",
      "Processing Record 30 of Set 1 | bluff\n",
      "City Not Found\n",
      "Processing Record 31 of Set 1 | illoqqortoormiut\n",
      "City Not Found\n",
      "Processing Record 32 of Set 1 | barrow\n",
      "City Not Found\n",
      "Processing Record 33 of Set 1 | margate\n",
      "City Not Found\n",
      "Processing Record 34 of Set 1 | tumannyy\n",
      "City Not Found\n",
      "Processing Record 35 of Set 1 | arraial do cabo\n",
      "City Not Found\n",
      "Processing Record 36 of Set 1 | aleksandrov gay\n",
      "City Not Found\n",
      "Processing Record 37 of Set 1 | nikolskoye\n",
      "City Not Found\n",
      "Processing Record 38 of Set 1 | east london\n",
      "City Not Found\n",
      "Processing Record 39 of Set 1 | puerto gaitan\n",
      "City Not Found\n",
      "Processing Record 40 of Set 1 | pangnirtung\n",
      "City Not Found\n",
      "Processing Record 41 of Set 1 | quatre cocos\n",
      "City Not Found\n",
      "Processing Record 42 of Set 1 | nome\n",
      "City Not Found\n",
      "Processing Record 43 of Set 1 | waitati\n",
      "City Not Found\n",
      "Processing Record 44 of Set 1 | kieta\n",
      "City Not Found\n",
      "Processing Record 45 of Set 1 | mahanoro\n",
      "City Not Found\n",
      "Processing Record 46 of Set 1 | ribeira grande\n",
      "City Not Found\n",
      "Processing Record 47 of Set 1 | hilo\n",
      "City Not Found\n",
      "Processing Record 48 of Set 1 | provideniya\n",
      "City Not Found\n",
      "Processing Record 49 of Set 1 | kazerun\n",
      "City Not Found\n",
      "Processing Record 50 of Set 1 | vaini\n",
      "City Not Found\n",
      "Processing Record 1 of Set 2 | wattegama\n",
      "City Not Found\n",
      "Processing Record 2 of Set 2 | kayerkan\n",
      "City Not Found\n",
      "Processing Record 3 of Set 2 | reinosa\n"
     ]
    }
   ],
   "source": [
    "city_data = []\n",
    "record_count = 1\n",
    "set_count = 1\n",
    "\n",
    "# Loop through all the cities in the list.\n",
    "for i, city in enumerate(cities):\n",
    "\n",
    "    # Group cities in sets of 50 \n",
    "    if (i % 50 == 0 and i >= 50):\n",
    "        set_count += 1\n",
    "        record_count = 1\n",
    "    # Create endpoint URL with each city.\n",
    "    city_url = url + \"&q=\" + city.replace(\" \",\"+\")\n",
    "\n",
    "    # Show progress of loop\n",
    "    print(f\"Processing Record {record_count} of Set {set_count} | {city}\")\n",
    "    \n",
    "    # Add 1 to the record count.\n",
    "    record_count += 1\n",
    "    \n",
    "    try:\n",
    "        # Create json for data retrieved\n",
    "        city_weather = requests.get(city_url).json()        \n",
    "        city_lat = city_weather[\"coord\"][\"lat\"]\n",
    "        city_lng = city_weather[\"coord\"][\"lon\"]\n",
    "        city_min_temp = ciy_weather[\"main\"][\"temp_min\"]\n",
    "        city_max_temp = city_weather[\"main\"][\"temp_max\"]\n",
    "        city_humidity = city_weather[\"main\"][\"humidity\"]\n",
    "        city_cloudiness = city_weather[\"clouds\"][\"all\"]\n",
    "        city_description = city_weather[\"weather\"][\"description\"]\n",
    "        city_windspeed = city_weather[\"wind\"][\"speed\"]\n",
    "        city_country = city_weather[\"sys\"][\"country\"]\n",
    "        city_name = city_weather[\"name\"]\n",
    "        # Append the city information into city_data list.\n",
    "        city_data.append({\"City\": city_name,\n",
    "                          \"County\": city_country,\n",
    "                          \"Lat\": city_lat,\n",
    "                          \"Lng\": city_lng,\n",
    "                          \"Max Temp\": city_max_temp,\n",
    "                          \"Humidity\": city_humidity,\n",
    "                          \"Cloudiness\": city_cloudiness,\n",
    "                          \"Wind Speed\": city_windspeed,\n",
    "                          \"Current Weather\": city_description})\n",
    "\n",
    "    except:\n",
    "        print(\"City Not Found\")\n",
    "        pass\n",
    "    \n",
    "# Indicate that Data Loading is complete.\n",
    "print(\"-----------------------------\")\n",
    "print(\"Data Retrieval Complete      \")\n",
    "print(\"-----------------------------\")"
   ]
  },
  {
   "cell_type": "code",
   "execution_count": null,
   "id": "95b94bda",
   "metadata": {},
   "outputs": [],
   "source": [
    "#create city data dataframe\n",
    "city_data_df = pd.DataFrame(city_data)\n",
    "city_data_df"
   ]
  },
  {
   "cell_type": "code",
   "execution_count": null,
   "id": "9c4d2412",
   "metadata": {},
   "outputs": [],
   "source": []
  }
 ],
 "metadata": {
  "kernelspec": {
   "display_name": "PyData",
   "language": "python",
   "name": "pydata"
  },
  "language_info": {
   "codemirror_mode": {
    "name": "ipython",
    "version": 3
   },
   "file_extension": ".py",
   "mimetype": "text/x-python",
   "name": "python",
   "nbconvert_exporter": "python",
   "pygments_lexer": "ipython3",
   "version": "3.9.5"
  }
 },
 "nbformat": 4,
 "nbformat_minor": 5
}
